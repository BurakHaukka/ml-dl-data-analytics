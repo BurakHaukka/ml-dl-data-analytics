{
 "cells": [
  {
   "cell_type": "markdown",
   "id": "66b37bc9",
   "metadata": {},
   "source": [
    "# Assignment 2-1. Topic: Neural Network by implementing it yourself: 4 points\n",
    "\n",
    "In this assignment, create your **own neural network** using only the Core Python 3.x and *NumPy* library.\n",
    "\n",
    "Coordinate pairs have been defined in the assignment, and they are used to draw points of two colors (red and blue).\n",
    "The ultimate goal is to create a neural network that knows how to place a point in the red or blue areas of the coordinate system.\n",
    "\n",
    "When a new point is drawn on the graph and the coordinates of the point are fed to the neural network,\n",
    "the neural network predicts the color of the point and the probability that it is that color.\n",
    "\n",
    "The meaning of the assignment: to better understand the functioning of the neural network algorithm.\n",
    "\n",
    "The steps of the assignment are:\n",
    "\n",
    "1. Create training data with coordinate points with colors.\n",
    "2. Create a neural network class with the structure:\n",
    "* Input layer with two neurons (x, y) i.e., the coordinate pairs for the (x, y) point.\n",
    "* One hidden layer with six (6) neurons and sigmoid as activation function.\n",
    "* Output layer with one neuron and sigmoid as activation function.\n",
    "* The result of the output layer is therefore a float between [0, 1].\n",
    "3. Create functions to calculate the neural network's prediction for the input data (*forwardpropagation*) and\n",
    "   update the connection weight values with the error (*backpropagation*).\n",
    "4. Feed the training data 1000 times through the neural network.\n",
    "* In each epoch round, feed the training data row by row through the neural network and update the weight values.\n",
    "* During the round, save the errors for each input, and add the average of the round's loss to the list. Draw a graph of how the loss changes during training epochs.\n",
    "5. Predict with a neural network (float value) what color the point will be: `[0.5, 8.7]`. How accurate do you think this prediction is?\n",
    "6. Predict with a neural network (float value) what color the point is: `[15, -15]`. How accurate do you think this prediction is?\n",
    "7. Find out how the change in the `learning_rate` argument of the `backpropagation()` method affects the (try values from `0.01` to `0.001`) result?\n",
    "8. Find out how changing the `n_samples` property of `make_blobs()` affects the result?\n",
    "9. Find out how changing the `cluster_std` property of `make_blobs()` affects the result?\n",
    "\n",
    "Tips:\n",
    "* Draw the structure of this neural network with a drawing program or on paper, where you can see the number of connections in each layer.\n",
    "* Use the existing solution, and add to it only the necessary calculations for each layer of neural network.\n",
    "\n",
    "Once the error (loss) function is defined, the _gradient descent_ method is used to minimize it.\n",
    "In it, the gradient of the error function is calculated in relation to the weighting coefficients, and\n",
    "it moves step by step to the opposite direction with respect to the gradient until an optimum is found.\n",
    "\n",
    "### What do you need to implement in this assignment?\n",
    "\n",
    "* `class NeuralNetwork` - ready-to-use class, i.e., no changes needed\n",
    "* `train_neural_network()` - ready to use, trains the neural network and saves the loss after each round\n",
    "* `create_dots_and_labels()` - requires also own implementation\n",
    " * plot the losses of the neural network\n",
    "*  calculate the neural network prediction for the input `[x, y]` in the given variable."
   ]
  },
  {
   "cell_type": "code",
   "execution_count": 1,
   "id": "e28422c6",
   "metadata": {
    "ExecuteTime": {
     "end_time": "2024-01-19T07:42:21.525988700Z",
     "start_time": "2024-01-19T07:42:20.222803100Z"
    },
    "lines_to_next_cell": 2
   },
   "outputs": [
    {
     "data": {
      "text/plain": [
       "<matplotlib.collections.PathCollection at 0x14d70f51c10>"
      ]
     },
     "execution_count": 1,
     "metadata": {},
     "output_type": "execute_result"
    },
    {
     "data": {
      "image/png": "[encoded data removed]",
      "text/plain": [
       "<Figure size 640x480 with 1 Axes>"
      ]
     },
     "metadata": {},
     "output_type": "display_data"
    }
   ],
   "source": [
    "# This assignment uses the make_blobs() function, which can be used to draw the test dataset\n",
    "\n",
    "import matplotlib.pyplot as plt\n",
    "from sklearn.datasets import make_blobs\n",
    "\n",
    "dots, labels = make_blobs(n_samples=50, centers=2, cluster_std=8, center_box=(-20, 20), random_state=151)\n",
    "colors = ['red' if label == 0 else 'blue' for label in labels]\n",
    "plt.scatter(dots[:, 0], dots[:, 1], color=colors)"
   ]
  },
  {
   "cell_type": "code",
   "execution_count": 2,
   "id": "dec4d00b",
   "metadata": {
    "ExecuteTime": {
     "end_time": "2024-01-19T07:42:21.589472400Z",
     "start_time": "2024-01-19T07:42:21.536656200Z"
    }
   },
   "outputs": [],
   "source": [
    "# `NeuralNetwork` is a ready-to-use class as is.\n",
    "import numpy as np\n",
    "class NeuralNetwork:\n",
    "    def __init__(self):\n",
    "        self.weights1 = np.random.rand(2, 6)\n",
    "        self.weights2 = np.random.rand(6, 1)\n",
    "\n",
    "    def __init__(self, input_neurons, hidden_neurons):\n",
    "        self.weights1 = np.random.rand(input_neurons, hidden_neurons)\n",
    "        self.weights2 = np.random.rand(hidden_neurons, 1)\n",
    "\n",
    "    # Loss function\n",
    "    def loss_function(self, true, prediction):\n",
    "        return 0.5 * (true - prediction) ** 2\n",
    "\n",
    "    # Derivative of the loss function\n",
    "    def loss_function_derivative(self, true, prediction):\n",
    "        return true - prediction\n",
    "\n",
    "    # Sigmoid function\n",
    "    def sigmoid(self, x):\n",
    "        return 1 / (1 + np.exp(-x))\n",
    "\n",
    "    # Derivative of the sigmoid\n",
    "    def sigmoid_derivative(self, x):\n",
    "        return x * (1 - x)\n",
    "\n",
    "    # Traversal of the neural network\n",
    "    def forwardpropagation(self, X, y):\n",
    "        self.X = X\n",
    "        self.y = y\n",
    "        self.layer1 = self.sigmoid(np.dot(self.X, self.weights1))\n",
    "        self.output = self.sigmoid(np.dot(self.layer1, self.weights2))\n",
    "\n",
    "        # the loss is calculated, i.e., the distance of the neural network's predictions from the correct values\n",
    "        self.loss = self.loss_function(self.y, self.output)\n",
    "\n",
    "    # Update weight values using the backpropagation method\n",
    "    def backpropagation(self, learning_rate):\n",
    "        output_error = self.loss_function_derivative(self.y, self.output)\n",
    "        output_delta = output_error * self.sigmoid_derivative(self.output)\n",
    "        weights2_adjustment = np.dot(self.layer1.T, output_delta)\n",
    "\n",
    "        layer1_error = np.dot(output_delta, self.weights2.T)\n",
    "        layer1_delta = layer1_error * self.sigmoid_derivative(self.layer1)\n",
    "        weights1_adjustment = np.dot(self.X.T, layer1_delta)\n",
    "\n",
    "        self.weights1 += learning_rate * weights1_adjustment\n",
    "        self.weights2 += learning_rate * weights2_adjustment"
   ]
  },
  {
   "cell_type": "markdown",
   "id": "2d1e4f9e",
   "metadata": {},
   "source": [
    "\n",
    "Implement function `create_dots_and_labels()`, that creates the dots and labels and set the RGB color for the dot based on the labels.\n",
    "\n",
    "You must do the following:\n",
    "* Create a color table where the color is `[label: 0: \"red\" or 1: \"blue\"]`\n",
    "* Find out how `make_blobs()` works.\n",
    "\n",
    "`train_neural_network()`: Trains the neural network and saves the loss after each epoch round\n",
    "\n",
    "see **TODO** items that require you to write your own code."
   ]
  },
  {
   "cell_type": "code",
   "execution_count": 3,
   "id": "7c5f194c",
   "metadata": {
    "ExecuteTime": {
     "end_time": "2024-01-19T07:42:21.589472400Z",
     "start_time": "2024-01-19T07:42:21.558598400Z"
    }
   },
   "outputs": [],
   "source": [
    "# TODO: create_dots_and_labels() function should return list with `[dots, labels, colors]`\n",
    "def create_dots_and_labels():\n",
    "    # TODO: Find out how increasing the cluster_std property of make_blobs() affects the result?\n",
    "    dots, labels = make_blobs(n_samples=50, centers=2, cluster_std=8, center_box=(-20, 20), random_state=151)\n",
    "    colors = []\n",
    "    # TODO: Create a color table where the color is [\"red\" or \"blue\"]\n",
    "    color_table = ['red' if label == 0 else 'blue' for label in labels]\n",
    "    # TODO: Create the colors list based on the values of the labels list\n",
    "    for label in labels:\n",
    "        colors.append(color_table[label])\n",
    "    return [dots, labels, colors]\n",
    "\n",
    "\n",
    "# Train the neural network and save the loss after each epoch round (this has been already implemented)\n",
    "def train_neural_network(ntwrk, train_X, train_y):\n",
    "    losses_arr = []  # save round errors\n",
    "    epochs = 1000\n",
    "    for epoch in range(epochs):\n",
    "        batch_losses = []\n",
    "        # Let's go through each pair of coordinates in loop\n",
    "        for X, y in zip(train_X, train_y):\n",
    "            ntwrk.forwardpropagation(np.array([X]), np.array([y]))\n",
    "            # TODO: Find out how does the learning_rate change affect the (from 0.01 to 0.001) result?\n",
    "            ntwrk.backpropagation(learning_rate=0.01)\n",
    "            batch_losses.append(ntwrk.loss[0])\n",
    "        losses_arr.append(np.average(batch_losses))  # average the error values of one round\n",
    "    return losses_arr"
   ]
  },
  {
   "cell_type": "markdown",
   "id": "1eccd3b6",
   "metadata": {},
   "source": [
    "* Defining the training data and creating the neural network\n",
    "* create_dots_and_labels\n",
    "* Plot the points with *scatter plot*\n",
    "* You should train the neural network and save the loss of the neural network after each round"
   ]
  },
  {
   "cell_type": "code",
   "execution_count": 4,
   "id": "12a8b59f",
   "metadata": {
    "ExecuteTime": {
     "end_time": "2024-01-19T07:42:21.590467700Z",
     "start_time": "2024-01-19T07:42:21.569556500Z"
    }
   },
   "outputs": [],
   "source": [
    "# TODO: Create and train a neural network\n",
    "# ... NeuralNetwork(input_layer_neurons, hidden_layer_neurons)\n",
    "# ... train_neural_network(...)\n",
    "\n",
    "# TODO: Create and train the neural network and save the loss of the neural network after each round\n",
    "\n",
    "neural_net = NeuralNetwork(2, 6)\n",
    "dots, labels, colors = create_dots_and_labels()\n",
    "\n",
    "losses = train_neural_network(neural_net, dots, labels)"
   ]
  },
  {
   "cell_type": "markdown",
   "id": "47bb3d55",
   "metadata": {},
   "source": [
    "Let's plot the losses of the neural network"
   ]
  },
  {
   "cell_type": "code",
   "execution_count": 5,
   "id": "df5dedd4",
   "metadata": {
    "ExecuteTime": {
     "end_time": "2024-01-19T07:42:21.609422100Z",
     "start_time": "2024-01-19T07:42:21.586480100Z"
    }
   },
   "outputs": [
    {
     "data": {
      "image/png": "[encoded data removed]",
      "text/plain": [
       "<Figure size 1000x500 with 1 Axes>"
      ]
     },
     "metadata": {},
     "output_type": "display_data"
    }
   ],
   "source": [
    "# TODO: Plot the losses of the neural network\n",
    "import matplotlib.pyplot as plt\n",
    "\n",
    "plt.figure(figsize=(10, 5))\n",
    "plt.plot(losses)\n",
    "plt.title('Losses during training')\n",
    "plt.xlabel('Iteration')\n",
    "plt.ylabel('Loss')\n",
    "plt.show()"
   ]
  },
  {
   "cell_type": "markdown",
   "id": "3136a6be",
   "metadata": {},
   "source": [
    "### Let's calculate the following predictions\n",
    "* Calculate the neural network prediction for the input `[0.5, 8.7]` in the `output1` variable.\n",
    "* Calculate the neural network prediction for the input `[15, -15]` in the `output2` variable.\n"
   ]
  },
  {
   "cell_type": "code",
   "execution_count": 6,
   "id": "93424e34",
   "metadata": {
    "ExecuteTime": {
     "end_time": "2024-01-19T07:42:21.656428300Z",
     "start_time": "2024-01-19T07:42:21.604441200Z"
    }
   },
   "outputs": [],
   "source": [
    "# TODO: Calculate two predictions for given (x,y) points\n",
    "\n",
    "# TODO: Calculate the prediction for the first input\n",
    "test_X_nn = np.array([0.5, 8.7])\n",
    "layer1_output = neural_net.sigmoid(np.dot(test_X_nn, neural_net.weights1))\n",
    "\n",
    "output1 = neural_net.sigmoid(np.dot(layer1_output, neural_net.weights2))  # TODO: This value must be calculated.\n",
    "\n",
    "# TODO: Calculate the prediction for the second input\n",
    "test_X_nn2 = np.array([15, -15])\n",
    "layer1_output2 = neural_net.sigmoid(np.dot(test_X_nn2, neural_net.weights1))\n",
    "output2 = neural_net.sigmoid(np.dot(layer1_output2, neural_net.weights2))"
   ]
  },
  {
   "cell_type": "code",
   "execution_count": 7,
   "id": "8e6636dc",
   "metadata": {
    "ExecuteTime": {
     "end_time": "2024-01-19T07:42:21.657474300Z",
     "start_time": "2024-01-19T07:42:21.619398900Z"
    }
   },
   "outputs": [
    {
     "name": "stdout",
     "output_type": "stream",
     "text": [
      "[0.94686064]\n",
      "[0.01731934]\n"
     ]
    }
   ],
   "source": [
    "# Answers to the assignment. Note! Do not edit this cell, just run it after you complete the task.\n",
    "print(output1)\n",
    "print(output2)"
   ]
  },
  {
   "cell_type": "markdown",
   "id": "ebb7785b",
   "metadata": {},
   "source": [
    "# Assignment 2-2\n",
    "# Topic: Simple neural network with Keras Sequential API (max. 3 p)\n",
    "\n",
    "Train a simple neural network with the **Keras** interface using *Titanic dataset*.\n",
    "\n",
    "You can get the dataset from the URL: `https://student.labranet.jamk.fi/~varpe/datananalk2019/kerta10/titanic.csv`\n",
    "\n",
    "Steps that must be found in the assignment:\n",
    "1. Choose only the most important features from the Titanic data\n",
    "2. Create a neural network (use `tf.keras.Sequential()` method)\n",
    "3. Define loss function and optimizer (use `model.compile()` method)\n",
    "4. Train the neural network (use `model.fit()` method)\n",
    "5. Compare the predictions given by the neural network with the test data (use the `model.evaluate()` method)\n",
    "6. Print the results of the epochs to the console.\n",
    "7. Change the structure of the neural network and try to document the neural network with which you got the best results.\n",
    "* 500 - 1000 learning rounds (epochs) are certainly enough for this neural network.\n",
    "\n",
    "Example output:\n",
    "```\n",
    "23/23 [==============================] - 0s 687us/step - loss: 2.2182 - accuracy: 0.6236\n",
    "Epoch 2/1000\n",
    "23/23 [==============================] - 0s 702us/step - loss: 1.4468 - accuracy: 0.6238\n",
    "```\n",
    "\n",
    "Note! It's worth trying several neural network structures and comparing the learning results a little.\n"
   ]
  },
  {
   "cell_type": "markdown",
   "id": "8641abfb",
   "metadata": {},
   "source": [
    "### Data preprocessing + Keras - Titanic dataset\n",
    "\n",
    "A version that aims to retrieve the most important features that are most correlated with the `survived` field (class variable).\n"
   ]
  },
  {
   "cell_type": "code",
   "execution_count": 8,
   "id": "39b40983",
   "metadata": {
    "ExecuteTime": {
     "end_time": "2024-01-19T07:42:21.817773Z",
     "start_time": "2024-01-19T07:42:21.633587Z"
    }
   },
   "outputs": [
    {
     "name": "stdout",
     "output_type": "stream",
     "text": [
      "Columns with null values:\n",
      "Age         177\n",
      "Cabin       687\n",
      "Embarked      2\n",
      "dtype: int64\n",
      "   Survived  Pclass  SibSp  Parch     Fare  is_female  Embarked_C  Embarked_Q  \\\n",
      "0         0       3      1      0   7.2500          0         0.0         0.0   \n",
      "1         1       1      1      0  71.2833          1         1.0         0.0   \n",
      "2         1       3      0      0   7.9250          1         0.0         0.0   \n",
      "3         1       1      1      0  53.1000          1         0.0         0.0   \n",
      "4         0       3      0      0   8.0500          0         0.0         0.0   \n",
      "\n",
      "   Embarked_S  \n",
      "0         1.0  \n",
      "1         0.0  \n",
      "2         1.0  \n",
      "3         1.0  \n",
      "4         1.0  \n"
     ]
    }
   ],
   "source": [
    "# TODO: Implementation of the task\n",
    "# TODO: Implement Data Preprocessing\n",
    "import pandas as pd\n",
    "import matplotlib.pyplot as plt\n",
    "import seaborn as sns\n",
    "\n",
    "df = pd.read_csv('https://student.labranet.jamk.fi/~varpe/datananalk2019/kerta10/titanic.csv')\n",
    "null_values = df.isnull().sum()\n",
    "\n",
    "# Display columns with null values\n",
    "print(\"Columns with null values:\")\n",
    "print(null_values[null_values > 0])\n",
    "\n",
    "#Encode Sex feature\n",
    "df['is_female'] = df['Sex'].map({'female': 1, 'male': 0})\n",
    "\n",
    "# One-hot encoding\n",
    "df['Embarked'] = df['Embarked'].fillna(df['Embarked'].mode()[0])\n",
    "df = pd.get_dummies(df, columns=['Embarked'])  \n",
    "df[['Embarked_C', 'Embarked_Q', 'Embarked_S']] = df[['Embarked_C', 'Embarked_Q', 'Embarked_S']].astype('float64')\n",
    "\n",
    "# Filling missing age values with the median\n",
    "df['Age'] = df['Age'].fillna(df['Age'].median())\n",
    "\n",
    "# Features to be dropped Cabin, PassengerId, Name, Ticket, Embarked, Age\n",
    "df = df.drop(['Cabin', 'PassengerId', 'Name', 'Ticket', 'Sex', 'Age'], axis=1)\n",
    "\n",
    "print(df.head())"
   ]
  },
  {
   "cell_type": "markdown",
   "id": "3919339d805c631a",
   "metadata": {
    "lines_to_next_cell": 2
   },
   "source": [
    "If you get *\"SSL certificate expired error\"*, the above code will help.\n",
    "\n",
    "Another alternative is to just copy the CSV file to your own local repository to do the assignment."
   ]
  },
  {
   "cell_type": "code",
   "execution_count": 9,
   "id": "fbaf71a3df8eace4",
   "metadata": {
    "ExecuteTime": {
     "end_time": "2024-01-19T07:42:21.862362100Z",
     "start_time": "2024-01-19T07:42:21.820764200Z"
    }
   },
   "outputs": [],
   "source": [
    "# import ssl\n",
    "# ssl._create_default_https_context = ssl._create_unverified_context\n",
    "# df = pd.read_csv(...)"
   ]
  },
  {
   "cell_type": "markdown",
   "id": "201fe358",
   "metadata": {
    "lines_to_next_cell": 0
   },
   "source": [
    "### Splitting the Data\n",
    "* Extract the class variable from the data.\n",
    "* Divide the data into training and test data.\n"
   ]
  },
  {
   "cell_type": "code",
   "execution_count": 10,
   "id": "aefbc9b1",
   "metadata": {
    "ExecuteTime": {
     "end_time": "2024-01-19T07:42:21.877281800Z",
     "start_time": "2024-01-19T07:42:21.837754200Z"
    }
   },
   "outputs": [
    {
     "name": "stdout",
     "output_type": "stream",
     "text": [
      "X_train shape: (623, 8)\n"
     ]
    },
    {
     "data": {
      "text/html": [
       "<div>\n",
       "<style scoped>\n",
       "    .dataframe tbody tr th:only-of-type {\n",
       "        vertical-align: middle;\n",
       "    }\n",
       "\n",
       "    .dataframe tbody tr th {\n",
       "        vertical-align: top;\n",
       "    }\n",
       "\n",
       "    .dataframe thead th {\n",
       "        text-align: right;\n",
       "    }\n",
       "</style>\n",
       "<table border=\"1\" class=\"dataframe\">\n",
       "  <thead>\n",
       "    <tr style=\"text-align: right;\">\n",
       "      <th></th>\n",
       "      <th>Pclass</th>\n",
       "      <th>SibSp</th>\n",
       "      <th>Parch</th>\n",
       "      <th>Fare</th>\n",
       "      <th>is_female</th>\n",
       "      <th>Embarked_C</th>\n",
       "      <th>Embarked_Q</th>\n",
       "      <th>Embarked_S</th>\n",
       "    </tr>\n",
       "  </thead>\n",
       "  <tbody>\n",
       "    <tr>\n",
       "      <th>273</th>\n",
       "      <td>1</td>\n",
       "      <td>-0.481142</td>\n",
       "      <td>0.653057</td>\n",
       "      <td>-0.016210</td>\n",
       "      <td>0</td>\n",
       "      <td>1.0</td>\n",
       "      <td>0.0</td>\n",
       "      <td>0.0</td>\n",
       "    </tr>\n",
       "    <tr>\n",
       "      <th>854</th>\n",
       "      <td>2</td>\n",
       "      <td>0.410976</td>\n",
       "      <td>-0.499505</td>\n",
       "      <td>-0.104608</td>\n",
       "      <td>1</td>\n",
       "      <td>0.0</td>\n",
       "      <td>0.0</td>\n",
       "      <td>1.0</td>\n",
       "    </tr>\n",
       "    <tr>\n",
       "      <th>178</th>\n",
       "      <td>2</td>\n",
       "      <td>-0.481142</td>\n",
       "      <td>-0.499505</td>\n",
       "      <td>-0.415195</td>\n",
       "      <td>0</td>\n",
       "      <td>0.0</td>\n",
       "      <td>0.0</td>\n",
       "      <td>1.0</td>\n",
       "    </tr>\n",
       "    <tr>\n",
       "      <th>307</th>\n",
       "      <td>1</td>\n",
       "      <td>0.410976</td>\n",
       "      <td>-0.499505</td>\n",
       "      <td>1.875985</td>\n",
       "      <td>1</td>\n",
       "      <td>1.0</td>\n",
       "      <td>0.0</td>\n",
       "      <td>0.0</td>\n",
       "    </tr>\n",
       "    <tr>\n",
       "      <th>122</th>\n",
       "      <td>2</td>\n",
       "      <td>0.410976</td>\n",
       "      <td>-0.499505</td>\n",
       "      <td>-0.007351</td>\n",
       "      <td>0</td>\n",
       "      <td>1.0</td>\n",
       "      <td>0.0</td>\n",
       "      <td>0.0</td>\n",
       "    </tr>\n",
       "  </tbody>\n",
       "</table>\n",
       "</div>"
      ],
      "text/plain": [
       "     Pclass     SibSp     Parch      Fare  is_female  Embarked_C  Embarked_Q  \\\n",
       "273       1 -0.481142  0.653057 -0.016210          0         1.0         0.0   \n",
       "854       2  0.410976 -0.499505 -0.104608          1         0.0         0.0   \n",
       "178       2 -0.481142 -0.499505 -0.415195          0         0.0         0.0   \n",
       "307       1  0.410976 -0.499505  1.875985          1         1.0         0.0   \n",
       "122       2  0.410976 -0.499505 -0.007351          0         1.0         0.0   \n",
       "\n",
       "     Embarked_S  \n",
       "273         0.0  \n",
       "854         1.0  \n",
       "178         1.0  \n",
       "307         0.0  \n",
       "122         0.0  "
      ]
     },
     "execution_count": 10,
     "metadata": {},
     "output_type": "execute_result"
    }
   ],
   "source": [
    "# Implementation of the task\n",
    "from sklearn.model_selection import train_test_split\n",
    "from sklearn.preprocessing import StandardScaler\n",
    "\n",
    "# TODO: Extract the class variable from the data\n",
    "X = df.drop('Survived', axis=1)\n",
    "y = df['Survived']\n",
    "\n",
    "# TODO: Split into training and test data\n",
    "X_train, X_test, y_train, y_test = train_test_split(X, y, test_size=0.3, random_state=2302)\n",
    "\n",
    "# Normalizing the numeric columns for X_train and X_test\n",
    "scaler = StandardScaler()\n",
    "\n",
    "X_train[['Fare', 'SibSp', 'Parch']] = scaler.fit_transform(X_train[['Fare', 'SibSp', 'Parch']])\n",
    "X_test[['Fare', 'SibSp', 'Parch']] = scaler.fit_transform(X_test[['Fare', 'SibSp', 'Parch']])\n",
    "# Check the dataframe\n",
    "print(f'X_train shape: {X_train.shape}')\n",
    "X_train.head()"
   ]
  },
  {
   "cell_type": "markdown",
   "id": "fa082dbf",
   "metadata": {
    "lines_to_next_cell": 0
   },
   "source": [
    "### Implementation of the task using the Keras library\n",
    "\n",
    "Create a neural network with `Dense` layers one after the other (`Sequential`). Specify these two parameters at least:\n",
    "* `units` – dimensionality of the output space.\n",
    "* `activation` – Activation function to use.\n",
    "\n",
    "Creating a neural network based on `Sequential` class.\n",
    "\n",
    "      model = tf.keras.Sequential([\n",
    "          tf.keras.layers.Dense(neurons, activation='relu'), ...\n",
    "          # Define Layers in between (one or more hidden layers)\n",
    "          # In the output layer there is only one neuron (i.e. Survived, the output value is between 0-1)\n",
    "\n",
    "Note! It is worth trying several neural network structures and comparing the learning results of them."
   ]
  },
  {
   "cell_type": "code",
   "execution_count": 11,
   "id": "1113980a",
   "metadata": {
    "ExecuteTime": {
     "end_time": "2024-01-19T07:42:33.625149100Z",
     "start_time": "2024-01-19T07:42:21.852332500Z"
    }
   },
   "outputs": [],
   "source": [
    "# Implementation of tasks\n",
    "import tensorflow as tf\n",
    "\n",
    "tf.keras.backend.set_floatx('float64')\n",
    "\n",
    "# TODO: Create a neural network\n",
    "model = tf.keras.models.Sequential([\n",
    "    tf.keras.layers.Dense(20, input_dim=8, activation='relu'),\n",
    "    tf.keras.layers.Dense(10, activation='relu'),\n",
    "    tf.keras.layers.Dense(5, activation='relu'),\n",
    "    tf.keras.layers.Dense(1, activation='sigmoid')\n",
    "])"
   ]
  },
  {
   "cell_type": "markdown",
   "id": "b02a5b03",
   "metadata": {
    "lines_to_next_cell": 2
   },
   "source": [
    "Next steps in the task are:\n",
    "\n",
    "* Compile the model (`model.compile()`)\n",
    "* Train the neural network with *n epoch* rounds (`model.fit()`)\n",
    "* Compare the obtained learning results with the test data (`model.evaluate()`)\n",
    "* define loss function: `loss='binary_crossentropy'`\n",
    "\n",
    "Note! `verbose=1` is a good option in the fit()/evaluate() functions, which allows you to see how the teaching progresses by epoch cycles"
   ]
  },
  {
   "cell_type": "code",
   "execution_count": 12,
   "id": "dd8635b7-3b1e-49d7-8799-ff1739f3bacd",
   "metadata": {
    "ExecuteTime": {
     "end_time": "2024-01-19T07:42:33.644098300Z",
     "start_time": "2024-01-19T07:42:33.632173700Z"
    }
   },
   "outputs": [
    {
     "name": "stdout",
     "output_type": "stream",
     "text": [
      "Epoch 1/100\n",
      "20/20 [==============================] - 1s 1ms/step - loss: 0.6920 - accuracy: 0.6003\n",
      "Epoch 2/100\n",
      "20/20 [==============================] - 0s 945us/step - loss: 0.6860 - accuracy: 0.6790\n",
      "Epoch 3/100\n",
      "20/20 [==============================] - 0s 945us/step - loss: 0.6803 - accuracy: 0.7079\n",
      "Epoch 4/100\n",
      "20/20 [==============================] - 0s 945us/step - loss: 0.6755 - accuracy: 0.7335\n",
      "Epoch 5/100\n",
      "20/20 [==============================] - 0s 945us/step - loss: 0.6701 - accuracy: 0.7464\n",
      "Epoch 6/100\n",
      "20/20 [==============================] - 0s 945us/step - loss: 0.6634 - accuracy: 0.7464\n",
      "Epoch 7/100\n",
      "20/20 [==============================] - 0s 997us/step - loss: 0.6558 - accuracy: 0.7640\n",
      "Epoch 8/100\n",
      "20/20 [==============================] - 0s 997us/step - loss: 0.6463 - accuracy: 0.7753\n",
      "Epoch 9/100\n",
      "20/20 [==============================] - 0s 975us/step - loss: 0.6367 - accuracy: 0.7817\n",
      "Epoch 10/100\n",
      "20/20 [==============================] - 0s 1ms/step - loss: 0.6263 - accuracy: 0.7849\n",
      "Epoch 11/100\n",
      "20/20 [==============================] - 0s 997us/step - loss: 0.6158 - accuracy: 0.7865\n",
      "Epoch 12/100\n",
      "20/20 [==============================] - 0s 892us/step - loss: 0.6042 - accuracy: 0.7801\n",
      "Epoch 13/100\n",
      "20/20 [==============================] - 0s 1ms/step - loss: 0.5944 - accuracy: 0.7833\n",
      "Epoch 14/100\n",
      "20/20 [==============================] - 0s 997us/step - loss: 0.5847 - accuracy: 0.7833\n",
      "Epoch 15/100\n",
      "20/20 [==============================] - 0s 945us/step - loss: 0.5760 - accuracy: 0.7929\n",
      "Epoch 16/100\n",
      "20/20 [==============================] - 0s 945us/step - loss: 0.5659 - accuracy: 0.7961\n",
      "Epoch 17/100\n",
      "20/20 [==============================] - 0s 945us/step - loss: 0.5229 - accuracy: 0.7961\n",
      "Epoch 18/100\n",
      "20/20 [==============================] - 0s 958us/step - loss: 0.4838 - accuracy: 0.7961\n",
      "Epoch 19/100\n",
      "20/20 [==============================] - 0s 892us/step - loss: 0.4679 - accuracy: 0.7945\n",
      "Epoch 20/100\n",
      "20/20 [==============================] - 0s 997us/step - loss: 0.4632 - accuracy: 0.7978\n",
      "Epoch 21/100\n",
      "20/20 [==============================] - 0s 945us/step - loss: 0.4605 - accuracy: 0.7978\n",
      "Epoch 22/100\n",
      "20/20 [==============================] - 0s 945us/step - loss: 0.4587 - accuracy: 0.8074\n",
      "Epoch 23/100\n",
      "20/20 [==============================] - 0s 945us/step - loss: 0.4560 - accuracy: 0.8074\n",
      "Epoch 24/100\n",
      "20/20 [==============================] - 0s 945us/step - loss: 0.4548 - accuracy: 0.8074\n",
      "Epoch 25/100\n",
      "20/20 [==============================] - 0s 1ms/step - loss: 0.4544 - accuracy: 0.8042\n",
      "Epoch 26/100\n",
      "20/20 [==============================] - 0s 997us/step - loss: 0.4538 - accuracy: 0.8074\n",
      "Epoch 27/100\n",
      "20/20 [==============================] - 0s 997us/step - loss: 0.4504 - accuracy: 0.8074\n",
      "Epoch 28/100\n",
      "20/20 [==============================] - 0s 945us/step - loss: 0.4484 - accuracy: 0.8074\n",
      "Epoch 29/100\n",
      "20/20 [==============================] - 0s 892us/step - loss: 0.4486 - accuracy: 0.8074\n",
      "Epoch 30/100\n",
      "20/20 [==============================] - 0s 945us/step - loss: 0.4483 - accuracy: 0.8090\n",
      "Epoch 31/100\n",
      "20/20 [==============================] - 0s 892us/step - loss: 0.4447 - accuracy: 0.8074\n",
      "Epoch 32/100\n",
      "20/20 [==============================] - 0s 892us/step - loss: 0.4442 - accuracy: 0.8074\n",
      "Epoch 33/100\n",
      "20/20 [==============================] - 0s 945us/step - loss: 0.4422 - accuracy: 0.8122\n",
      "Epoch 34/100\n",
      "20/20 [==============================] - 0s 945us/step - loss: 0.4423 - accuracy: 0.8106\n",
      "Epoch 35/100\n",
      "20/20 [==============================] - 0s 997us/step - loss: 0.4410 - accuracy: 0.8090\n",
      "Epoch 36/100\n",
      "20/20 [==============================] - 0s 997us/step - loss: 0.4400 - accuracy: 0.8122\n",
      "Epoch 37/100\n",
      "20/20 [==============================] - 0s 945us/step - loss: 0.4394 - accuracy: 0.8090\n",
      "Epoch 38/100\n",
      "20/20 [==============================] - 0s 945us/step - loss: 0.4372 - accuracy: 0.8090\n",
      "Epoch 39/100\n",
      "20/20 [==============================] - 0s 945us/step - loss: 0.4366 - accuracy: 0.8122\n",
      "Epoch 40/100\n",
      "20/20 [==============================] - 0s 892us/step - loss: 0.4390 - accuracy: 0.8122\n",
      "Epoch 41/100\n",
      "20/20 [==============================] - 0s 997us/step - loss: 0.4345 - accuracy: 0.8106\n",
      "Epoch 42/100\n",
      "20/20 [==============================] - 0s 1ms/step - loss: 0.4341 - accuracy: 0.8090\n",
      "Epoch 43/100\n",
      "20/20 [==============================] - 0s 1ms/step - loss: 0.4334 - accuracy: 0.8122\n",
      "Epoch 44/100\n",
      "20/20 [==============================] - 0s 1ms/step - loss: 0.4339 - accuracy: 0.8138\n",
      "Epoch 45/100\n",
      "20/20 [==============================] - 0s 1ms/step - loss: 0.4321 - accuracy: 0.8090\n",
      "Epoch 46/100\n",
      "20/20 [==============================] - 0s 997us/step - loss: 0.4318 - accuracy: 0.8154\n",
      "Epoch 47/100\n",
      "20/20 [==============================] - 0s 997us/step - loss: 0.4313 - accuracy: 0.8122\n",
      "Epoch 48/100\n",
      "20/20 [==============================] - 0s 945us/step - loss: 0.4309 - accuracy: 0.8154\n",
      "Epoch 49/100\n",
      "20/20 [==============================] - 0s 1ms/step - loss: 0.4282 - accuracy: 0.8154\n",
      "Epoch 50/100\n",
      "20/20 [==============================] - 0s 1ms/step - loss: 0.4290 - accuracy: 0.8170\n",
      "Epoch 51/100\n",
      "20/20 [==============================] - 0s 1ms/step - loss: 0.4270 - accuracy: 0.8154\n",
      "Epoch 52/100\n",
      "20/20 [==============================] - 0s 1ms/step - loss: 0.4263 - accuracy: 0.8154\n",
      "Epoch 53/100\n",
      "20/20 [==============================] - 0s 1ms/step - loss: 0.4263 - accuracy: 0.8138\n",
      "Epoch 54/100\n",
      "20/20 [==============================] - 0s 1ms/step - loss: 0.4257 - accuracy: 0.8170\n",
      "Epoch 55/100\n",
      "20/20 [==============================] - 0s 1ms/step - loss: 0.4236 - accuracy: 0.8202\n",
      "Epoch 56/100\n",
      "20/20 [==============================] - 0s 1ms/step - loss: 0.4254 - accuracy: 0.8122\n",
      "Epoch 57/100\n",
      "20/20 [==============================] - 0s 1ms/step - loss: 0.4247 - accuracy: 0.8170\n",
      "Epoch 58/100\n",
      "20/20 [==============================] - 0s 1ms/step - loss: 0.4239 - accuracy: 0.8170\n",
      "Epoch 59/100\n",
      "20/20 [==============================] - 0s 1ms/step - loss: 0.4236 - accuracy: 0.8154\n",
      "Epoch 60/100\n",
      "20/20 [==============================] - 0s 1ms/step - loss: 0.4240 - accuracy: 0.8090\n",
      "Epoch 61/100\n",
      "20/20 [==============================] - 0s 945us/step - loss: 0.4228 - accuracy: 0.8074\n",
      "Epoch 62/100\n",
      "20/20 [==============================] - 0s 997us/step - loss: 0.4201 - accuracy: 0.8154\n",
      "Epoch 63/100\n",
      "20/20 [==============================] - 0s 1ms/step - loss: 0.4206 - accuracy: 0.8186\n",
      "Epoch 64/100\n",
      "20/20 [==============================] - 0s 1ms/step - loss: 0.4205 - accuracy: 0.8170\n",
      "Epoch 65/100\n",
      "20/20 [==============================] - 0s 1ms/step - loss: 0.4203 - accuracy: 0.8170\n",
      "Epoch 66/100\n",
      "20/20 [==============================] - 0s 1ms/step - loss: 0.4181 - accuracy: 0.8266\n",
      "Epoch 67/100\n",
      "20/20 [==============================] - 0s 1ms/step - loss: 0.4176 - accuracy: 0.8186\n",
      "Epoch 68/100\n",
      "20/20 [==============================] - 0s 1ms/step - loss: 0.4178 - accuracy: 0.8138\n",
      "Epoch 69/100\n",
      "20/20 [==============================] - 0s 1ms/step - loss: 0.4177 - accuracy: 0.8218\n",
      "Epoch 70/100\n",
      "20/20 [==============================] - 0s 1ms/step - loss: 0.4166 - accuracy: 0.8266\n",
      "Epoch 71/100\n",
      "20/20 [==============================] - 0s 997us/step - loss: 0.4166 - accuracy: 0.8266\n",
      "Epoch 72/100\n",
      "20/20 [==============================] - 0s 892us/step - loss: 0.4156 - accuracy: 0.8170\n",
      "Epoch 73/100\n",
      "20/20 [==============================] - 0s 892us/step - loss: 0.4149 - accuracy: 0.8234\n",
      "Epoch 74/100\n",
      "20/20 [==============================] - 0s 892us/step - loss: 0.4150 - accuracy: 0.8154\n",
      "Epoch 75/100\n",
      "20/20 [==============================] - 0s 920us/step - loss: 0.4152 - accuracy: 0.8234\n",
      "Epoch 76/100\n",
      "20/20 [==============================] - 0s 840us/step - loss: 0.4137 - accuracy: 0.8218\n",
      "Epoch 77/100\n",
      "20/20 [==============================] - 0s 840us/step - loss: 0.4130 - accuracy: 0.8202\n",
      "Epoch 78/100\n",
      "20/20 [==============================] - 0s 945us/step - loss: 0.4128 - accuracy: 0.8234\n",
      "Epoch 79/100\n",
      "20/20 [==============================] - 0s 945us/step - loss: 0.4120 - accuracy: 0.8186\n",
      "Epoch 80/100\n",
      "20/20 [==============================] - 0s 1ms/step - loss: 0.4118 - accuracy: 0.8234\n",
      "Epoch 81/100\n",
      "20/20 [==============================] - 0s 945us/step - loss: 0.4122 - accuracy: 0.8250\n",
      "Epoch 82/100\n",
      "20/20 [==============================] - 0s 1ms/step - loss: 0.4107 - accuracy: 0.8234\n",
      "Epoch 83/100\n",
      "20/20 [==============================] - 0s 1ms/step - loss: 0.4107 - accuracy: 0.8154\n",
      "Epoch 84/100\n",
      "20/20 [==============================] - 0s 997us/step - loss: 0.4118 - accuracy: 0.8234\n",
      "Epoch 85/100\n",
      "20/20 [==============================] - 0s 997us/step - loss: 0.4086 - accuracy: 0.8234\n",
      "Epoch 86/100\n",
      "20/20 [==============================] - 0s 997us/step - loss: 0.4100 - accuracy: 0.8202\n",
      "Epoch 87/100\n",
      "20/20 [==============================] - 0s 1ms/step - loss: 0.4088 - accuracy: 0.8250\n",
      "Epoch 88/100\n",
      "20/20 [==============================] - 0s 1ms/step - loss: 0.4073 - accuracy: 0.8283\n",
      "Epoch 89/100\n",
      "20/20 [==============================] - 0s 1ms/step - loss: 0.4086 - accuracy: 0.8202\n",
      "Epoch 90/100\n",
      "20/20 [==============================] - 0s 1ms/step - loss: 0.4077 - accuracy: 0.8218\n",
      "Epoch 91/100\n",
      "20/20 [==============================] - 0s 997us/step - loss: 0.4076 - accuracy: 0.8218\n",
      "Epoch 92/100\n",
      "20/20 [==============================] - 0s 1ms/step - loss: 0.4057 - accuracy: 0.8234\n",
      "Epoch 93/100\n",
      "20/20 [==============================] - 0s 945us/step - loss: 0.4052 - accuracy: 0.8234\n",
      "Epoch 94/100\n",
      "20/20 [==============================] - 0s 1ms/step - loss: 0.4063 - accuracy: 0.8283\n",
      "Epoch 95/100\n",
      "20/20 [==============================] - 0s 997us/step - loss: 0.4078 - accuracy: 0.8250\n",
      "Epoch 96/100\n",
      "20/20 [==============================] - 0s 1ms/step - loss: 0.4071 - accuracy: 0.8250\n",
      "Epoch 97/100\n",
      "20/20 [==============================] - 0s 1ms/step - loss: 0.4068 - accuracy: 0.8122\n",
      "Epoch 98/100\n",
      "20/20 [==============================] - 0s 1ms/step - loss: 0.4060 - accuracy: 0.8266\n",
      "Epoch 99/100\n",
      "20/20 [==============================] - 0s 1ms/step - loss: 0.4054 - accuracy: 0.8250\n",
      "Epoch 100/100\n",
      "20/20 [==============================] - 0s 1ms/step - loss: 0.4033 - accuracy: 0.8250\n",
      "9/9 [==============================] - 0s 998us/step - loss: 0.4488 - accuracy: 0.8060\n"
     ]
    }
   ],
   "source": [
    "# Implementation of the task\n",
    "\n",
    "# TODO: Compile the model\n",
    "\n",
    "# adam adapts the learning rate during training\n",
    "# We predict the survival which is binary. so loss='binary_crossentropy'\n",
    "optimizer = tf.keras.optimizers.Adam(learning_rate=0.001)\n",
    "model.compile(optimizer=optimizer, loss='binary_crossentropy', metrics=['accuracy'])\n",
    "\n",
    "# TODO: Train the neural network with n epoch rounds\n",
    "model.fit(X_train, y_train, epochs=100)\n",
    "\n",
    "# TODO: Compare the obtained learning results with the test data\n",
    "results = model.evaluate(X_test, y_test)  # TODO: Code is initialized so that there are no errors. Results will be calculated in this task."
   ]
  },
  {
   "cell_type": "code",
   "execution_count": 13,
   "id": "a01904af",
   "metadata": {
    "ExecuteTime": {
     "end_time": "2024-01-19T07:42:33.702164400Z",
     "start_time": "2024-01-19T07:42:33.647091300Z"
    }
   },
   "outputs": [
    {
     "name": "stdout",
     "output_type": "stream",
     "text": [
      "Test Loss:0.44880255111478246 Test Accuracy:80.59701492537313%\n"
     ]
    }
   ],
   "source": [
    "# Answers to the assignment.\n",
    "# Note! Do not edit this cell, just run it after you complete the task. Set the result of the model.evaluate() function in the results variable.\n",
    "\n",
    "# TODO: Be sure to set the model.compile() function to be tracked as metrics=['accuracy'] to define the accuracy of the neural network predictions.\n",
    "print(f\"Test Loss:{results[0]} Test Accuracy:{results[1] * 100}%\")"
   ]
  },
  {
   "cell_type": "markdown",
   "id": "6ce3b9c5-7e38-4d9f-9aea-ef6c8ec372ee",
   "metadata": {},
   "source": [
    "## Testing\n",
    "\n",
    "**Layers:** 4 (20, 10, 5, 1)  \n",
    "**Features:** Pclass, Age, SibSp, Parch, Fare, is_female, Embarked  \n",
    "\n",
    "| Epoch | Loss | Accuracy |\n",
    "|:-----:|:----:|:--------:|\n",
    "|  100  | 0.95 |   80.6   |\n",
    "|  150  | 1.07 |   80.6   |\n",
    "|  200  | 1.21 |   80.9   |\n",
    "|  500  | 0.74 |   80.0   |\n",
    "| 1000  | 1.07 |   79.4   |\n",
    "\n",
    "**Features:** Pclass, Age, SibSp, Parch, Fare, is_female  \n",
    "\n",
    "| Epoch | Loss | Accuracy |\n",
    "|:-----:|:----:|:--------:|\n",
    "|  100  | 0.89 |   83.2   |\n",
    "|  150  | 0.85 |   84.0   |\n",
    "|  200  | 0.85 |   84.3   |\n",
    "|  500  | 0.76 |   84.0   |\n",
    "| 1000  | 0.66 |   83.2   |\n",
    "\n",
    "**Features:** Pclass, SibSp, Parch, Fare, is_female  \n",
    "\n",
    "| Epoch | Loss | Accuracy |\n",
    "|:-----:|:----:|:--------:|\n",
    "|  100  | 0.46 |   82.0   |\n",
    "|  150  | 0.53 |   81.7   |\n",
    "|  200  | 0.55 |   81.0   |\n",
    "|  500  | 0.65 |   80.6   |\n",
    "| 1000  | 0.87 |   79.1   |\n",
    "\n",
    "**Features:** Pclass, SibSp, Parch, Fare, is_female, Embarked  \n",
    "\n",
    "| Epoch | Loss | Accuracy |\n",
    "|:-----:|:----:|:--------:|\n",
    "|  100  | 1.07 |   80.6   |\n",
    "|  150  | 1.04 |   80.2   |\n",
    "|  200  | 0.96 |   80.2   |\n",
    "|  500  | 0.92 |   81.4   |\n",
    "| 1000  | 0.72 |   81.7   |\n",
    "\n",
    "## Results  \n",
    "\n",
    "Embarked and Age feature seems to increase the loss. Lowest loss is observed when **Age** and **Embarked** features are dropped. **Age** also seems to increase the accuracy.  \n",
    "Highest accuracy achieved with features **Pclass, Age, SibSp, Parch, Fare, is_female**  \n",
    "Lowest loss and acceptable accuracy achieved with features **Pclass, SibSp, Parch, Fare, is_female**  \n",
    "\n",
    "Large epoch caused lower accuracy in some cases. Optimal epoch seems to be between 150-200 and can go up to 500. "
   ]
  },
  {
   "cell_type": "markdown",
   "id": "b0b9b09c",
   "metadata": {},
   "source": [
    "About the modeling results:\n",
    "* Test Accuracy: approx. 80% or greater is already pretty good\n",
    "* You can try to get better results for improving your modeling skills\n"
   ]
  }
 ],
 "metadata": {
  "jupytext": {
   "cell_metadata_filter": "-all",
   "main_language": "python",
   "notebook_metadata_filter": "-all"
  },
  "kernelspec": {
   "display_name": "Python 3 (ipykernel)",
   "language": "python",
   "name": "python3"
  },
  "language_info": {
   "codemirror_mode": {
    "name": "ipython",
    "version": 3
   },
   "file_extension": ".py",
   "mimetype": "text/x-python",
   "name": "python",
   "nbconvert_exporter": "python",
   "pygments_lexer": "ipython3",
   "version": "3.9.18"
  }
 },
 "nbformat": 4,
 "nbformat_minor": 5
}
