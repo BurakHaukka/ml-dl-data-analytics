{
 "cells": [
  {
   "cell_type": "markdown",
   "id": "0931e133",
   "metadata": {},
   "source": [
    "# Machine Learning: Assignment 4\n",
    "## Regression methods (max. 10p)"
   ]
  },
  {
   "cell_type": "code",
   "execution_count": 1,
   "id": "ab39b16b",
   "metadata": {
    "ExecuteTime": {
     "end_time": "2023-12-15T10:02:59.483259400Z",
     "start_time": "2023-12-15T10:02:59.416438800Z"
    }
   },
   "outputs": [],
   "source": [
    "# Write Your information in here\n",
    "student_name = 'Burak Dogan'\n",
    "student_id = \"AB0971\""
   ]
  },
  {
   "cell_type": "markdown",
   "id": "a8ddb44f",
   "metadata": {},
   "source": [
    "## Assignment 4.1: Preprocess the data (2 p)\n",
    "### Topic: Productivity of textile workers\n",
    "\n",
    "1. Explore and download the data from [https://archive.ics.uci.edu/ml/datasets/Productivity+Prediction+of+Garment+Employees#](https://archive.ics.uci.edu/ml/datasets/Productivity+Prediction+of+Garment+Employees#). Load the data into the DataFrame.\n",
    "\n",
    "2. Remove background variables from the analyzed data.\n",
    "\n",
    "3. Decide what to do with the missing values.\n",
    "\n",
    "4. Normalize the data.\n",
    "\n",
    "5. Additionally, create a new class variable with a value of 0 if the productivity is less than 0.5 and with a value of 1 if the productivity is above 0.5. Store this in the df variable as column `class`. That will be used in classification assignment (4.3)."
   ]
  },
  {
   "cell_type": "code",
   "execution_count": 1,
   "id": "38fb1b22",
   "metadata": {
    "ExecuteTime": {
     "end_time": "2023-12-15T10:03:00.173413600Z",
     "start_time": "2023-12-15T10:02:59.428405400Z"
    },
    "lines_to_next_cell": 2
   },
   "outputs": [],
   "source": [
    "\"\"\"\n",
    "Explanation of variables\n",
    "\n",
    "date:\tDate in MM-DD-YYYY\n",
    "day:\tDay of the Week\n",
    "quarter:\tA portion of the month. A month was divided into four quarters\n",
    "department:\tAssociated department with the instance\n",
    "team_no:\tAssociated team number with the instance\n",
    "no_of_workers:\tNumber of workers in each team\n",
    "no_of_style_change:\tNumber of changes in the style of a particular product\n",
    "targeted_productivity:\tTargeted productivity set by the Authority for each team for each day.\n",
    "smv:\tStandard Minute Value, it is the allocated time for a task\n",
    "wip:\tWork in progress. Includes the number of unfinished items for products\n",
    "over_time:\tRepresents the amount of overtime by each team in minutes\n",
    "incentive:\tRepresents the amount of financial incentive (in BDT) that enables or motivates a particular course of action.\n",
    "idle_time:\tThe amount of time when the production was interrupted due to several reasons\n",
    "idle_men:\tThe number of workers who were idle due to production interruption\n",
    "actual_productivity:\tThe actual % of productivity that was delivered by the workers. It ranges from 0-1.\n",
    "\"\"\"\n",
    "\n",
    "# TODO: Write your code in this cell.\n",
    "\n",
    "# TODO: Data Preprocessing\n",
    "import pandas as pd\n",
    "import numpy as np\n",
    "from sklearn.preprocessing import MinMaxScaler\n",
    "\n",
    "df = pd.read_csv('garments_worker_productivity.csv')\n",
    "columns_to_drop = ['date', 'quarter', 'department', 'day', 'no_of_style_change', 'idle_men', 'wip']\n",
    "df = df.drop(columns = columns_to_drop)\n",
    "\n",
    "df_lin = df\n",
    "\n",
    "# Creating feature 'class'. write 0 when actual_productivity < 0.5, 1 if greater.\n",
    "df_lin['class'] = np.where(df_lin['actual_productivity'] < 0.5, 0, 1)\n",
    "#print(df.head())\n",
    "\n",
    "#df = pd.DataFrame({0:[0]})\n",
    "\n",
    "\"\"\"\n",
    "Dropping the column that contains null values wip: 'work in progress'.\n",
    "It is hard to predict the use of the column in the context, so I decided to not use it.\n",
    "\"\"\"\n",
    "# Normalizing all the data other than 'team'\n",
    "columns_to_normalize = ['targeted_productivity', 'smv', 'over_time', 'incentive', 'idle_time', 'no_of_workers', 'actual_productivity']\n",
    "scaler = MinMaxScaler()\n",
    "df_lin[columns_to_normalize] = scaler.fit_transform(df_lin[columns_to_normalize])\n"
   ]
  },
  {
   "cell_type": "code",
   "execution_count": 2,
   "id": "6295a75b",
   "metadata": {
    "ExecuteTime": {
     "end_time": "2023-12-15T10:03:00.194356800Z",
     "start_time": "2023-12-15T10:03:00.172416700Z"
    }
   },
   "outputs": [
    {
     "name": "stdout",
     "output_type": "stream",
     "text": [
      "Columns: Index(['team', 'targeted_productivity', 'smv', 'over_time', 'incentive',\n",
      "       'idle_time', 'no_of_workers', 'actual_productivity', 'class'],\n",
      "      dtype='object')\n",
      "First row by position: team                     8.000000\n",
      "targeted_productivity    1.000000\n",
      "smv                      0.450252\n",
      "over_time                0.273148\n",
      "incentive                0.027222\n",
      "idle_time                0.000000\n",
      "no_of_workers            0.655172\n",
      "actual_productivity      0.797332\n",
      "class                    1.000000\n",
      "Name: 0, dtype: float64\n"
     ]
    }
   ],
   "source": [
    "# Answers to the assignment. Note! Do not edit this cell, just run it after you complete the task.\n",
    "# Save the DataFrame to the df variable and the training data.\n",
    "print(f'Columns: {df_lin.columns}')\n",
    "print(f'First row by position: {df_lin.iloc[0]}')"
   ]
  },
  {
   "cell_type": "markdown",
   "id": "572cbbba",
   "metadata": {},
   "source": [
    "## Assignment 4.2: Regression using a Linear Regression model (2 p)\n",
    "\n",
    "1. Split the data into training (67%) and testing data (33%), also saving the class variables as their own vectors (`X_train`, `y_train`, `X_test`, `y_test`). Use random seed `2150`.\n",
    "\n",
    "Tip: don't put the columns `actual_productivity` or `class` in the input variables (features).\n",
    "\n",
    "2. Use the [functions](https://scikit-learn.org/stable/modules/classes.html#module-sklearn.ensemble) from `ensemble` module\n",
    "of the `scikit-learn` library and create a regression model using a linear regressor. So you try to predict the `actual_productivity` variable.\n",
    "\n",
    "Use random seed `2100`.\n",
    "\n",
    "3. Predict the `actual_productivity` of the test dataset. Record the explained variance `exp_var` and\n",
    "the maximum error `max_err` using the tools in the `metrics` module of the library."
   ]
  },
  {
   "cell_type": "code",
   "execution_count": 3,
   "id": "c67101d5",
   "metadata": {
    "ExecuteTime": {
     "end_time": "2023-12-15T10:03:00.224276800Z",
     "start_time": "2023-12-15T10:03:00.190367300Z"
    }
   },
   "outputs": [],
   "source": [
    "# TODO: Write your code in this cell\n",
    "from sklearn.model_selection import train_test_split\n",
    "from sklearn.linear_model import LinearRegression\n",
    "from sklearn.metrics import explained_variance_score, max_error\n",
    "\n",
    "# Drop 'actual_productivity' and 'class' variables\n",
    "features = df_lin.drop(['actual_productivity', 'class'], axis=1)\n",
    "\n",
    "# Target variable\n",
    "target = df_lin['actual_productivity']\n",
    "\n",
    "# TODO: Split the data into training (67%) and testing data (33%)\n",
    "\n",
    "# Split the data into training (67%) and testing data (33%) with random seed 2150\n",
    "X_train, X_test, y_train, y_test = train_test_split(features, target, test_size=0.33, random_state=2150)\n"
   ]
  },
  {
   "cell_type": "code",
   "execution_count": 4,
   "id": "91a18ad3",
   "metadata": {
    "ExecuteTime": {
     "end_time": "2023-12-15T10:03:00.225275Z",
     "start_time": "2023-12-15T10:03:00.207322700Z"
    }
   },
   "outputs": [],
   "source": [
    "# TODO: Create and test Linear regression model\n",
    "model = LinearRegression()\n",
    "\n",
    "# Train the model on the training data\n",
    "model.fit(X_train, y_train)\n",
    "\n",
    "# Predict actual_productivity on the test dataset\n",
    "y_pred = model.predict(X_test)\n",
    "\n",
    "# Calculate explained variance and maximum error\n",
    "exp_var = explained_variance_score(y_test, y_pred)\n",
    "exp_var_2 = explained_variance_score(y_test, y_pred, multioutput='variance_weighted')\n",
    "max_err = max_error(y_test, y_pred)"
   ]
  },
  {
   "cell_type": "code",
   "execution_count": 5,
   "id": "6ac02e93",
   "metadata": {
    "ExecuteTime": {
     "end_time": "2023-12-15T10:03:00.242229300Z",
     "start_time": "2023-12-15T10:03:00.219303Z"
    }
   },
   "outputs": [
    {
     "name": "stdout",
     "output_type": "stream",
     "text": [
      "Test length: 396\n",
      "Train length: 801\n",
      "Train columns: Index(['team', 'targeted_productivity', 'smv', 'over_time', 'incentive',\n",
      "       'idle_time', 'no_of_workers'],\n",
      "      dtype='object')\n",
      "Train columns length: 7\n",
      "Predict 5 items: [0.59720255 0.67384591 0.60859753 0.50232178 0.4777735 ] ... [0.57116075 0.56173689 0.59827455 0.51957719 0.67839673]\n",
      "Explained variance: 0.2161608196218021\n",
      "Maximum error: 0.594365170290515\n",
      "Explained variance (Weighted): 0.21616081962180214\n"
     ]
    }
   ],
   "source": [
    "# Answers to the assignment. Note! Do not edit this cell, just run it after you complete the assignment.\n",
    "# Save responses in exp_var and max_err variables.\n",
    "print(f'Test length: {len(X_test)}')\n",
    "print(f'Train length: {len(X_train)}')\n",
    "print(f'Train columns: {X_train.columns}')\n",
    "print(f'Train columns length: {len(X_train.columns)}')\n",
    "print(f'Predict 5 items: {y_pred[:5]} ... {y_pred[-5:]}')\n",
    "\n",
    "#exp_var = max_err = exp_var_2 = None\n",
    "\n",
    "print(f'Explained variance: {exp_var}')\n",
    "print(f'Maximum error: {max_err}')\n",
    "print(f'Explained variance (Weighted): {exp_var_2}')"
   ]
  },
  {
   "cell_type": "markdown",
   "id": "8089f363",
   "metadata": {},
   "source": [
    "**Explained variance** refers to the variance in the response variable in a model that can be explained by the predictor variable(s) in the model.\n",
    "The higher the explained variance of a model, the more the model is able to explain the variation in the data.\n",
    "\n",
    "Calculate and analyze the explained variance for the assignment."
   ]
  },
  {
   "cell_type": "code",
   "execution_count": 6,
   "id": "b3374023",
   "metadata": {
    "ExecuteTime": {
     "end_time": "2023-12-15T10:03:00.258187300Z",
     "start_time": "2023-12-15T10:03:00.237243400Z"
    },
    "lines_to_next_cell": 2
   },
   "outputs": [
    {
     "name": "stdout",
     "output_type": "stream",
     "text": [
      "Explained variance           : 0.2161608196218021\n",
      "Explained variance (Weighted): 0.21616081962180214\n"
     ]
    }
   ],
   "source": [
    "# TODO: Explained variance\n",
    "exp_var_weighted = explained_variance_score(y_test, y_pred, multioutput='variance_weighted')\n",
    "print(f'Explained variance           : {exp_var}')\n",
    "print(f'Explained variance (Weighted): {exp_var_weighted}')"
   ]
  },
  {
   "cell_type": "markdown",
   "id": "c2cc5f9b",
   "metadata": {},
   "source": [
    "## Analysis\n",
    "The model can explain 21.6% of the variance in actual_productivity. \n",
    "explained variance and weighted explained variance difference is not significant"
   ]
  },
  {
   "cell_type": "code",
   "execution_count": 7,
   "id": "cb497717",
   "metadata": {},
   "outputs": [
    {
     "name": "stdout",
     "output_type": "stream",
     "text": [
      "Feature: team, Coefficient: -0.010706978708365705\n",
      "Feature: targeted_productivity, Coefficient: 0.6277127944965718\n",
      "Feature: smv, Coefficient: -0.46365376632127536\n",
      "Feature: over_time, Coefficient: -0.016845872604777698\n",
      "Feature: incentive, Coefficient: 0.2035002652554458\n",
      "Feature: idle_time, Coefficient: -0.26136871191018596\n",
      "Feature: no_of_workers, Coefficient: 0.33358908172632096\n"
     ]
    }
   ],
   "source": [
    "# Linear Regression Coefficients\n",
    "coefficients = model.coef_\n",
    "\n",
    "for feature, coefficient in zip(features, coefficients):\n",
    "    print(f\"Feature: {feature}, Coefficient: {coefficient}\")"
   ]
  },
  {
   "cell_type": "markdown",
   "id": "7475d503",
   "metadata": {},
   "source": [
    "## Assignment 4.3: Classification using Random Forest (2 p)\n",
    "\n",
    "1. Create training and testing data. Use random seed `2150`. Note that the `class` variable is now predicted.\n",
    "\n",
    "2. Use the [functions](https://scikit-learn.org/stable/modules/classes.html#module-sklearn.ensemble) from `ensemble` module\n",
    "of the `scikit-learn` library and create a classification model using a random forest. Use random seed `2100`. So let's try to predict the class variable `class`.\n",
    "\n",
    "3. Predict `class` from the test data. Generate the accuracy report `cr` and the confusion matrix `cm` using the tools in the `metrics` module of the library."
   ]
  },
  {
   "cell_type": "code",
   "execution_count": 8,
   "id": "eabe4708",
   "metadata": {
    "ExecuteTime": {
     "end_time": "2023-12-15T10:03:04.485915700Z",
     "start_time": "2023-12-15T10:03:00.250208700Z"
    }
   },
   "outputs": [],
   "source": [
    "# TODO: Write your code in this cell\n",
    "from sklearn.ensemble import RandomForestClassifier\n",
    "from sklearn.metrics import classification_report, confusion_matrix\n",
    "import seaborn as sns\n",
    "import matplotlib.pyplot as plt\n",
    "\n",
    "df_rf = df_lin\n",
    "\n",
    "features_rf = df_rf.drop(['class'], axis=1)\n",
    "target_rf = df_rf['class']\n",
    "\n",
    "X_train, X_test, y_train, y_test = train_test_split(features_rf, target_rf, test_size=0.33, random_state=2150)\n",
    "\n",
    "# Create and train the random forest classifier\n",
    "rf_classifier = RandomForestClassifier(random_state=2100)\n",
    "rf_classifier.fit(X_train, y_train)\n",
    "\n",
    "# Predict the class from the test data\n",
    "y_pred = rf_classifier.predict(X_test)\n",
    "\n",
    "# Print the accuracy and confusion matrix\n",
    "cr = classification_report(y_test, y_pred)\n",
    "cm = confusion_matrix(y_test, y_pred)\n"
   ]
  },
  {
   "cell_type": "code",
   "execution_count": 9,
   "id": "938b9e5e",
   "metadata": {
    "ExecuteTime": {
     "end_time": "2023-12-15T10:03:06.526423Z",
     "start_time": "2023-12-15T10:03:04.492862200Z"
    }
   },
   "outputs": [
    {
     "name": "stdout",
     "output_type": "stream",
     "text": [
      "Test length: 396\n",
      "Train length: 801\n",
      "              precision    recall  f1-score   support\n",
      "\n",
      "           0       1.00      1.00      1.00        49\n",
      "           1       1.00      1.00      1.00       347\n",
      "\n",
      "    accuracy                           1.00       396\n",
      "   macro avg       1.00      1.00      1.00       396\n",
      "weighted avg       1.00      1.00      1.00       396\n",
      "\n",
      "[[ 49   0]\n",
      " [  0 347]]\n"
     ]
    },
    {
     "data": {
      "image/png": "[encoded data removed]",
      "text/plain": [
       "<Figure size 800x600 with 1 Axes>"
      ]
     },
     "metadata": {},
     "output_type": "display_data"
    }
   ],
   "source": [
    "# Answers to the assignment. Note! Do not edit this cell, just run it after you complete the task.\n",
    "# The results are in cm and cr variables.\n",
    "print(f'Test length: {len(X_test)}')\n",
    "print(f'Train length: {len(X_train)}')\n",
    "print(cr)\n",
    "print(cm)\n",
    "\n",
    "# Plot confusion matrix\n",
    "plt.figure(figsize=(8, 6))\n",
    "sns.heatmap(cm, annot=True, fmt='d', cmap='Blues', cbar=False)\n",
    "plt.title('Confusion Matrix')\n",
    "plt.xlabel('Predicted')\n",
    "plt.ylabel('Actual')\n",
    "plt.show()"
   ]
  },
  {
   "cell_type": "markdown",
   "id": "ae5a7dd2",
   "metadata": {},
   "source": [
    "Show the importance of the features when using the **Random Forest Classifier** method."
   ]
  },
  {
   "cell_type": "code",
   "execution_count": 10,
   "id": "24912ca0",
   "metadata": {
    "ExecuteTime": {
     "start_time": "2023-12-15T10:03:06.529417300Z"
    }
   },
   "outputs": [],
   "source": [
    "# TODO: the importance of features\n",
    "feature_importances = rf_classifier.feature_importances_"
   ]
  },
  {
   "cell_type": "code",
   "execution_count": 11,
   "id": "864f5c9e",
   "metadata": {
    "ExecuteTime": {
     "start_time": "2023-12-15T10:03:06.535397800Z"
    }
   },
   "outputs": [
    {
     "data": {
      "image/png": "[encoded data removed]",
      "text/plain": [
       "<Figure size 1000x600 with 1 Axes>"
      ]
     },
     "metadata": {},
     "output_type": "display_data"
    }
   ],
   "source": [
    "# TODO: Visualize the importance of features\n",
    "feature_names = df_rf.columns[:-1]  # Exclude the target variable column\n",
    "indices = feature_importances.argsort()[::-1]\n",
    "\n",
    "# Plot the feature importances\n",
    "plt.figure(figsize=(10, 6))\n",
    "plt.title(\"Feature Importances Random Forest Classification\")\n",
    "plt.bar(range(len(feature_importances)), feature_importances[indices], align=\"center\")\n",
    "plt.xticks(range(len(feature_importances)), [feature_names[i] for i in indices], rotation=90)\n",
    "plt.xlabel(\"Feature\")\n",
    "plt.ylabel(\"Importance\")\n",
    "plt.tight_layout()\n",
    "plt.show()"
   ]
  },
  {
   "cell_type": "markdown",
   "id": "df1000b5",
   "metadata": {},
   "source": [
    " ## Analysis\n",
    " Although plot biased, this is expected, since the **_class_** variable is derived from **_actual_productivity_**. Next two important features are **_smv_** and **_targeted_productivity_**"
   ]
  },
  {
   "cell_type": "markdown",
   "id": "b16da385",
   "metadata": {},
   "source": [
    "## Assignment 4.4: Regression using Random Forest Regressor (2 p)\n",
    "\n",
    "Repeat same than **assignment 4.2** but now using a **Random Forest Regression** method.\n",
    "\n",
    "Also calculate the *explained variance* and *maximum error*."
   ]
  },
  {
   "cell_type": "code",
   "execution_count": 18,
   "id": "c477333d",
   "metadata": {
    "ExecuteTime": {
     "end_time": "2023-12-15T10:03:06.544377400Z",
     "start_time": "2023-12-15T10:03:06.539388Z"
    }
   },
   "outputs": [],
   "source": [
    "from sklearn.ensemble import RandomForestRegressor\n",
    "\n",
    "# TODO: Write your code in this cell\n",
    "# TODO: use Random Forest Regressor\n",
    "df_rfr = df_lin\n",
    "\n",
    "features_rfr = df_rfr.drop(['class', 'actual_productivity'], axis=1)\n",
    "target_rfr = df_rfr['actual_productivity']\n",
    "\n",
    "X_train2, X_test2, y_train2, y_test2 = train_test_split(features_rfr, target_rfr, test_size=0.33, random_state=2150)\n",
    "\n",
    "model_rfr = RandomForestRegressor(random_state=2100)\n",
    "model_rfr.fit(X_train2, y_train2)\n",
    "\n",
    "y_pred_rfr = model.predict(X_test2)\n",
    "\n",
    "exp_var2 = explained_variance_score(y_test2, y_pred_rfr)\n",
    "max_err2 = max_error(y_test2, y_pred_rfr)\n",
    "\n"
   ]
  },
  {
   "cell_type": "code",
   "execution_count": 19,
   "id": "dbf457f2",
   "metadata": {
    "ExecuteTime": {
     "start_time": "2023-12-15T10:03:06.544377400Z"
    },
    "lines_to_next_cell": 2
   },
   "outputs": [
    {
     "name": "stdout",
     "output_type": "stream",
     "text": [
      "Explained variance: 0.2161608196218021\n",
      "Maximum error: 0.594365170290515\n"
     ]
    }
   ],
   "source": [
    "# Answers to the assignment. Note! Do not edit this cell, just run it after you complete the assignment.\n",
    "# Save responses in exp_var and max_err and exp_var_2 variables.\n",
    "\n",
    "print(f'Explained variance: {exp_var2}')\n",
    "print(f'Maximum error: {max_err2}')"
   ]
  },
  {
   "cell_type": "markdown",
   "id": "ea25d8f7",
   "metadata": {},
   "source": [
    "**Explained variance** refers to the variance in the response variable in a model that can be explained by the predictor variable(s) in the model.\n",
    "The higher the explained variance of a model, the more the model is able to explain the variation in the data.\n",
    "\n",
    "Calculate and analyze the explained variance for the assignment."
   ]
  },
  {
   "cell_type": "code",
   "execution_count": 14,
   "id": "dc74bdd3",
   "metadata": {
    "ExecuteTime": {
     "end_time": "2023-12-15T10:03:06.560331300Z",
     "start_time": "2023-12-15T10:03:06.548367700Z"
    },
    "lines_to_next_cell": 2
   },
   "outputs": [
    {
     "name": "stdout",
     "output_type": "stream",
     "text": [
      "Explained variance (Weighted): -0.11613857448816356\n"
     ]
    }
   ],
   "source": [
    "# TODO: Explained variance\n",
    "exp_var_weighted2 = explained_variance_score(y_test2, y_pred, multioutput='variance_weighted')\n",
    "\n",
    "print(f'Explained variance (Weighted): {exp_var_weighted2}')"
   ]
  },
  {
   "cell_type": "markdown",
   "id": "6f09492e",
   "metadata": {},
   "source": [
    "Show the **importance of the features** when using **Random Forest Regressor** method."
   ]
  },
  {
   "cell_type": "code",
   "execution_count": 15,
   "id": "69fbb217",
   "metadata": {
    "ExecuteTime": {
     "start_time": "2023-12-15T10:03:06.550360800Z"
    }
   },
   "outputs": [],
   "source": [
    "# TODO: the importance of features with Random Forest Regressor\n",
    "feature_importances2 = model_rfr.feature_importances_"
   ]
  },
  {
   "cell_type": "code",
   "execution_count": 16,
   "id": "f168aeaa",
   "metadata": {
    "ExecuteTime": {
     "start_time": "2023-12-15T10:03:06.552354500Z"
    }
   },
   "outputs": [
    {
     "data": {
      "image/png": "[encoded data removed]",
      "text/plain": [
       "<Figure size 1000x600 with 1 Axes>"
      ]
     },
     "metadata": {},
     "output_type": "display_data"
    }
   ],
   "source": [
    "# TODO: Visualize the importance of features\n",
    "feature_names2 = df_rfr.columns[:-1]  # Exclude the target variable column\n",
    "indices = feature_importances2.argsort()[::-1]\n",
    "\n",
    "# Plot the feature importances\n",
    "plt.figure(figsize=(10, 6))\n",
    "plt.title(\"Feature Importances Random Forest Regressor\")\n",
    "plt.bar(range(len(feature_importances2)), feature_importances2[indices], align=\"center\")\n",
    "plt.xticks(range(len(feature_importances2)), [feature_names2[i] for i in indices], rotation=90)\n",
    "plt.xlabel(\"Feature\")\n",
    "plt.ylabel(\"Importance\")\n",
    "plt.tight_layout()\n",
    "plt.show()"
   ]
  },
  {
   "cell_type": "markdown",
   "id": "61580fc8",
   "metadata": {
    "lines_to_next_cell": 2
   },
   "source": [
    "## Assignment 4.5: Analysis of results (2 p)\n",
    "\n",
    "Let's do a result analysis where you verbally compare the regression results obtained in the assignments 4.2 and 4.4.\n",
    "* **4.2** (Linear regression) and\n",
    "* **4.4** (Random Forest regression).\n",
    "\n",
    "You can use **tables** or **figures** to present results in addition to verbal explanation and analysis.\n",
    "\n",
    "* TODO: Analysis of regression results.\n",
    "### Comparison of Different Regression Models\n",
    "* Compare the regression results of Random Forest and Linear Regression models.\n",
    "* Is there others good regression methods to apply with this dataset?"
   ]
  },
  {
   "cell_type": "markdown",
   "id": "41457c48",
   "metadata": {},
   "source": [
    "## Analysis\n",
    "\n",
    " | Model | Explained Variance |\n",
    "|:---------------:|:---------------:|\n",
    "|   Linear Regression  |  0.22  |\n",
    "|   Random  Forest Regression |  0.22  |\n",
    "\n",
    "Both models have the same variance.\n",
    "\n",
    "**_smv_** and **_targeted_productivity_** seems to be the most important features for **_actual_productivity_**\n",
    "\n",
    "Linear regression coefficients for these features are;\n",
    "\n",
    " | Feature | Coefficient |\n",
    "|:---------------:|:---------------:|\n",
    "|   smv  |  -0.46  |\n",
    "|   targeted_productivity |  0.63  |\n",
    "|   incentive  |  0.20  |\n",
    "|   no_of_workers |  0.33  |\n",
    "\n",
    "* **_smv_** has a negative impact on actual_productivity. smv (standard minute value) is \"allocated time for work in minutes\". The negative impact is expected because as you increase smv, time used for work increases, hence reduces the productivity.\n",
    "* **_targeted_productivity_** has the strongest positive effect on actual_prodctivity. This is expected, because workers try to meet the quota, hence it increases actual_productivity. \n",
    "\n",
    "In addition, **_incentive_** and **_no_of_workers_** seems to have positive effect on actual_productivity. As expected, more workers can do the same job faster and with added bonus, they might be motivated to work more efficiently. Furthermore **_idle_time_(coeff = -0.26)** and **_over_time_(coeff = -0.02)** has negative effect on prudctivity. \n",
    "\n",
    "Considering these are human workers, productivity can not be increased beyond the human limit and workers' wellbeing needs to be considered. "
   ]
  },
  {
   "cell_type": "code",
   "execution_count": null,
   "id": "78adda1b",
   "metadata": {},
   "outputs": [],
   "source": []
  }
 ],
 "metadata": {
  "jupytext": {
   "cell_metadata_filter": "-all",
   "main_language": "python",
   "notebook_metadata_filter": "-all"
  },
  "kernelspec": {
   "display_name": "Python 3 (ipykernel)",
   "language": "python",
   "name": "python3"
  },
  "language_info": {
   "codemirror_mode": {
    "name": "ipython",
    "version": 3
   },
   "file_extension": ".py",
   "mimetype": "text/x-python",
   "name": "python",
   "nbconvert_exporter": "python",
   "pygments_lexer": "ipython3",
   "version": "3.11.5"
  }
 },
 "nbformat": 4,
 "nbformat_minor": 5
}
